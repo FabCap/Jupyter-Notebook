{
 "cells": [
  {
   "cell_type": "markdown",
   "metadata": {},
   "source": [
    "- Define the problem and collect and annotate, if necessary, data\n",
    "- Choose the success criterion and what metrics will be monitored during validation\n",
    "- Chose an evaluation protocol (hold-out...)\n",
    "- Develop a first underfitting model with statistical power\n",
    "- Develop a larger overfitting model\n",
    "- Regularise the overfitting model and tune hyper-parameters based on peerformance on validation data"
   ]
  },
  {
   "cell_type": "code",
   "execution_count": null,
   "metadata": {},
   "outputs": [],
   "source": []
  }
 ],
 "metadata": {
  "kernelspec": {
   "display_name": "Python 3",
   "language": "python",
   "name": "python3"
  },
  "language_info": {
   "codemirror_mode": {
    "name": "ipython",
    "version": 3
   },
   "file_extension": ".py",
   "mimetype": "text/x-python",
   "name": "python",
   "nbconvert_exporter": "python",
   "pygments_lexer": "ipython3",
   "version": "3.6.7"
  }
 },
 "nbformat": 4,
 "nbformat_minor": 2
}
